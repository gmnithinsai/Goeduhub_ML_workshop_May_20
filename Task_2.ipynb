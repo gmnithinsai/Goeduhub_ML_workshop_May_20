{
 "cells": [
  {
   "cell_type": "markdown",
   "id": "bec81219",
   "metadata": {},
   "source": [
    "# Goeduhub | Task - 2 | Registration-ID: GO_STP_2134"
   ]
  },
  {
   "cell_type": "markdown",
   "id": "e36bf8b9",
   "metadata": {},
   "source": [
    "__1) Is a list Mutable?__\n",
    "- The list is a data type that is mutable. Once a list has been created,Elements can be modified. Individual values can be replaced. The order of elements can be changed.  \n",
    "- The below example shows that list elements can be modified thus list is mutable"
   ]
  },
  {
   "cell_type": "code",
   "execution_count": 1,
   "id": "6175ce82",
   "metadata": {},
   "outputs": [
    {
     "name": "stdout",
     "output_type": "stream",
     "text": [
      "[1, 2, 9999, 4, 5]\n"
     ]
    }
   ],
   "source": [
    "list1=[1,2,3,4,5]\n",
    "list1[2]=9999\n",
    "print(list1)"
   ]
  },
  {
   "cell_type": "markdown",
   "id": "048621e8",
   "metadata": {},
   "source": [
    "__2) Does a list need to be homogenous?__  \n",
    "- No,a list need not to be filled with similar type of elements.We can create a list with all data types existed in the programming language.\n",
    "- A list can be created with non-homogenous elements includes data types like int,float,string,character,boolean,etc  \n",
    "- The below example provied the illustration of above statements"
   ]
  },
  {
   "cell_type": "code",
   "execution_count": 3,
   "id": "f5858293",
   "metadata": {},
   "outputs": [
    {
     "data": {
      "text/plain": [
       "[1, 2, 56.888, 'a', 'goeduhub', True]"
      ]
     },
     "execution_count": 3,
     "metadata": {},
     "output_type": "execute_result"
    }
   ],
   "source": [
    "list2=[1,2,56.888,'a','goeduhub',True]\n",
    "list2"
   ]
  },
  {
   "cell_type": "markdown",
   "id": "a03ee7c6",
   "metadata": {},
   "source": [
    "__3) What is the diffference between a list and a tuple?__   \n",
    "\n",
    "Difference Between List and Tuple in Python  \n",
    "\n",
    "1|\tLists are mutable\t|Tuples are immutable|  \n",
    "\n",
    "2|\tImplication of iterations is Time-consuming\t|The implication of iterations is comparatively Faster|  \n",
    "\n",
    "3|\tThe list is better for performing operations, such as insertion and deletion.\t|Tuple data type is appropriate for accessing the elements|  \n",
    "\n",
    "4\t|Lists consume more memory\t|Tuple consume less memory as compared to the list|  \n",
    "\n",
    "5|\tLists have several built-in methods|\tTuple does not have many built-in methods.|  \n",
    "\n",
    "6|\tThe unexpected changes and errors are more likely to occur|\tIn tuple, it is hard to take place.|"
   ]
  },
  {
   "cell_type": "code",
   "execution_count": 4,
   "id": "91956124",
   "metadata": {},
   "outputs": [
    {
     "name": "stdout",
     "output_type": "stream",
     "text": [
      "['a', 234, 'gmnithinsai']\n",
      "(1, 2, 'nitin')\n"
     ]
    }
   ],
   "source": [
    "list3=['a',234,'gmnithinsai']\n",
    "tuple1=(1,2,\"nitin\")\n",
    "print(list3)\n",
    "print(tuple1)"
   ]
  },
  {
   "cell_type": "markdown",
   "id": "6d782891",
   "metadata": {},
   "source": [
    "__4) How to find the number of elements in the list?__  \n",
    "- We have len() function in python which returns the number of elements in the list i.e the length of the list.  \n",
    "- syntax: len(list_name)\n",
    "- We can perform the operation like this:"
   ]
  },
  {
   "cell_type": "code",
   "execution_count": 5,
   "id": "ce191505",
   "metadata": {},
   "outputs": [
    {
     "name": "stdout",
     "output_type": "stream",
     "text": [
      "5\n",
      "6\n",
      "3\n"
     ]
    }
   ],
   "source": [
    "print(len(list1))\n",
    "print(len(list2))\n",
    "print(len(list3))"
   ]
  },
  {
   "cell_type": "markdown",
   "id": "9afae7f7",
   "metadata": {},
   "source": [
    "__5) How to check whether the list is empty or not?__  \n",
    "- If you want to find the list if it is empty, you have to use the Python len(). When checking if a list is empty in python, the length of the list is zero(0) in the output. It means the list is empty and there are no elements in the given list. \n",
    "  \n",
    "  \n",
    "-  you can also use the Python bool() function. The bool function gives the output as False, if the list is empty. But, if the list is not empty, the bool function given the output as True."
   ]
  },
  {
   "cell_type": "code",
   "execution_count": 7,
   "id": "d0941271",
   "metadata": {},
   "outputs": [
    {
     "name": "stdout",
     "output_type": "stream",
     "text": [
      "The list is empty\n"
     ]
    }
   ],
   "source": [
    "myList=[]\n",
    "if len(myList)==0:\n",
    "    print(\"The list is empty\")\n",
    "else:\n",
    "    print(\"The list is not empty\")"
   ]
  },
  {
   "cell_type": "code",
   "execution_count": 6,
   "id": "bb13dca2",
   "metadata": {},
   "outputs": [
    {
     "name": "stdout",
     "output_type": "stream",
     "text": [
      "The list is empty.\n"
     ]
    }
   ],
   "source": [
    "if bool(myList)==False:\n",
    "    print(\"The list is empty.\")\n",
    "else:\n",
    "    print(\"The list is not empty.\")"
   ]
  },
  {
   "cell_type": "markdown",
   "id": "8527e2ea",
   "metadata": {},
   "source": [
    "__6) How to find the first and last element of the list?__  \n",
    "- we can use index values of a list to print the particular elements in the list.\n",
    "- Remember,the index of the list is always starts with zero.\n",
    "- We can also perform reverse indexing whereas in reverse indexing, the index values starts from '-1'."
   ]
  },
  {
   "cell_type": "code",
   "execution_count": 10,
   "id": "d3abc7e4",
   "metadata": {},
   "outputs": [
    {
     "name": "stdout",
     "output_type": "stream",
     "text": [
      "The first element in the list1 is 1\n",
      "The last element in the list 1 is gmnithinsai\n"
     ]
    }
   ],
   "source": [
    "print(\"The first element in the list1 is\",list1[0])\n",
    "print(\"The last element in the list 3 is\",list3[-1])"
   ]
  },
  {
   "cell_type": "markdown",
   "id": "d117b74a",
   "metadata": {},
   "source": [
    "__7) How to find the largest and lowest value in the list?__  \n",
    "- max():Maximum function in python returns the largest element present in the list.\n",
    "- min():Minimum function in python returns the lowest value element in the list."
   ]
  },
  {
   "cell_type": "code",
   "execution_count": 11,
   "id": "28ed511a",
   "metadata": {},
   "outputs": [
    {
     "name": "stdout",
     "output_type": "stream",
     "text": [
      "88\n",
      "1\n"
     ]
    }
   ],
   "source": [
    "a=[1,2,3,3,88,67,46,86.1,86]\n",
    "print(max(a))\n",
    "print(min(a))"
   ]
  },
  {
   "cell_type": "markdown",
   "id": "d655adad",
   "metadata": {},
   "source": [
    "__8) How to access the elements in the list?__  \n",
    "- We can use indexing method to access the values in the list."
   ]
  },
  {
   "cell_type": "code",
   "execution_count": 23,
   "id": "84af3888",
   "metadata": {},
   "outputs": [
    {
     "name": "stdout",
     "output_type": "stream",
     "text": [
      "1\n",
      "4\n",
      "3\n"
     ]
    }
   ],
   "source": [
    "list1=[1,2,3,4,5]\n",
    "print(list1[0])\n",
    "print(list1[3])\n",
    "print(list1[2])"
   ]
  },
  {
   "cell_type": "markdown",
   "id": "0d67b9a1",
   "metadata": {},
   "source": [
    "__9) Remove elements in the list with a specific index?__  \n",
    "- To do this we can use del list[:index] method.Let us see the example:"
   ]
  },
  {
   "cell_type": "code",
   "execution_count": 24,
   "id": "08373b02",
   "metadata": {},
   "outputs": [
    {
     "name": "stdout",
     "output_type": "stream",
     "text": [
      "[1, 2, 3, 4, 5]\n",
      "[4, 5]\n"
     ]
    }
   ],
   "source": [
    "print(list1)\n",
    "\n",
    "del list1[:3]\n",
    "print(list1)"
   ]
  },
  {
   "cell_type": "markdown",
   "id": "290a41ed",
   "metadata": {},
   "source": [
    "__10) Remove element in a list between two indices?__\n",
    "- We can use the same method mention above by providing stat and end indexes.\n"
   ]
  },
  {
   "cell_type": "code",
   "execution_count": 25,
   "id": "13f6994f",
   "metadata": {},
   "outputs": [
    {
     "data": {
      "text/plain": [
       "[1, 2, 3, 9, 0]"
      ]
     },
     "execution_count": 25,
     "metadata": {},
     "output_type": "execute_result"
    }
   ],
   "source": [
    "list2=[1,2,3,3,5,6,7,8,9,0]\n",
    "del list2[3:8]\n",
    "list2"
   ]
  },
  {
   "cell_type": "markdown",
   "id": "03bc9c86",
   "metadata": {},
   "source": [
    "__11) Return Every second element in a list between two indices?__  \n",
    "- we can do this with indexing let's see:"
   ]
  },
  {
   "cell_type": "code",
   "execution_count": 28,
   "id": "cca411fd",
   "metadata": {},
   "outputs": [
    {
     "name": "stdout",
     "output_type": "stream",
     "text": [
      "[1, 2, 3, 9, 0]\n",
      "[2, 9]\n"
     ]
    }
   ],
   "source": [
    "print(list2)\n",
    "print(list2[1:5:2])"
   ]
  },
  {
   "cell_type": "markdown",
   "id": "9b1efc6a",
   "metadata": {},
   "source": [
    "__12) Get the first element in each nested list?__  \n",
    "- This operation can be performed as:"
   ]
  },
  {
   "cell_type": "code",
   "execution_count": 38,
   "id": "2e09587d",
   "metadata": {},
   "outputs": [
    {
     "name": "stdout",
     "output_type": "stream",
     "text": [
      "[1, 4, 6, 8]\n"
     ]
    }
   ],
   "source": [
    "list1=[[1,2,3],[4,5],[6,7],[8,9]]\n",
    "lst=[i[0] for i in list1]\n",
    "print(lst)"
   ]
  },
  {
   "cell_type": "markdown",
   "id": "3c569d41",
   "metadata": {},
   "source": [
    "__13) How to modify elements of the list ?__  \n",
    "\n",
    "- To change a list element we use, list name followed by the index position inside the square brackets ([]), and then provides the new value using the Equal sign.  \n",
    "- In the below example we have a python list called languages which contains the list of some programming languages and we can modify the list as shown."
   ]
  },
  {
   "cell_type": "code",
   "execution_count": 1,
   "id": "ca9ec383",
   "metadata": {},
   "outputs": [
    {
     "name": "stdout",
     "output_type": "stream",
     "text": [
      "['c', 'Python', 'Java', 'c++']\n"
     ]
    }
   ],
   "source": [
    "languages=['c','Pyhon','Java','c++']\n",
    "languages[1]='Python'\n",
    "print(languages)\n"
   ]
  },
  {
   "cell_type": "markdown",
   "id": "f5752b9e",
   "metadata": {},
   "source": [
    "__14) How to concatenate two lists ?__  \n",
    "- We have many methods and one of the easiest method is using '+' operator  to concatenate the lists."
   ]
  },
  {
   "cell_type": "code",
   "execution_count": 2,
   "id": "3e41a034",
   "metadata": {},
   "outputs": [
    {
     "name": "stdout",
     "output_type": "stream",
     "text": [
      "['a', 'b', 'c', 1, 2, 3]\n"
     ]
    }
   ],
   "source": [
    "list1 = [\"a\", \"b\" , \"c\"]\n",
    "list2 = [1, 2, 3]\n",
    "\n",
    "list3 = list1 + list2\n",
    "print(list3)"
   ]
  },
  {
   "cell_type": "markdown",
   "id": "452dd713",
   "metadata": {},
   "source": [
    "- You can use append() method,which purpose to add elements"
   ]
  },
  {
   "cell_type": "code",
   "execution_count": 3,
   "id": "49a1e1b7",
   "metadata": {},
   "outputs": [
    {
     "name": "stdout",
     "output_type": "stream",
     "text": [
      "['a', 'b', 'c', 1, 2, 3]\n"
     ]
    }
   ],
   "source": [
    "list1 = [\"a\", \"b\" , \"c\"]\n",
    "list2 = [1, 2, 3]\n",
    "\n",
    "for x in list2:\n",
    "  list1.append(x)\n",
    "\n",
    "print(list1)"
   ]
  },
  {
   "cell_type": "markdown",
   "id": "d384474a",
   "metadata": {},
   "source": [
    "- you can use the extend() method, which purpose is to add elements from one list to another list:"
   ]
  },
  {
   "cell_type": "code",
   "execution_count": 4,
   "id": "16c4df7d",
   "metadata": {},
   "outputs": [
    {
     "name": "stdout",
     "output_type": "stream",
     "text": [
      "['a', 'b', 'c', 1, 2, 3]\n"
     ]
    }
   ],
   "source": [
    "list1 = [\"a\", \"b\" , \"c\"]\n",
    "list2 = [1, 2, 3]\n",
    "\n",
    "list1.extend(list2)\n",
    "print(list1)"
   ]
  },
  {
   "cell_type": "markdown",
   "id": "f78be9d6",
   "metadata": {},
   "source": [
    "__15)How to add two lists element-wise in python?__  \n",
    "- Follow these steps to add two lists element wise\n",
    " - list1 = [1, 2, 3]\n",
    "\n",
    " - list2 = [4, 5, 6]\n",
    "\n",
    " - sum_list = []  ------   # initialize result list.\n",
    "\n",
    " - for (item1, item2) in zip(list1, list2):\n",
    "\n",
    " - sum_list. append(item1+item2)\n",
    "\n",
    " - print(sum_list)--------# [(1 + 4), (2 + 5), (3 + 6)]"
   ]
  },
  {
   "cell_type": "code",
   "execution_count": 8,
   "id": "d680693c",
   "metadata": {},
   "outputs": [
    {
     "name": "stdout",
     "output_type": "stream",
     "text": [
      "[5, 7, 9]\n"
     ]
    }
   ],
   "source": [
    "list1 = [1, 2, 3]\n",
    "\n",
    "list2 = [4, 5, 6]\n",
    "\n",
    "sum_list = [] \n",
    "\n",
    "for (item1, item2) in zip(list1, list2):\n",
    "    sum_list.append(item1+item2)\n",
    "\n",
    "print(sum_list)"
   ]
  },
  {
   "cell_type": "markdown",
   "id": "8760b3af",
   "metadata": {},
   "source": [
    "__16) Difference between del and clear?__  \n",
    "- Del and pop removes the element at a specific index. del and pop deals with the index. The only difference between the two is that- pop return deleted the value from the list and del does not return anything. Pop is the only way that returns the object.  \n",
    "- The method clear is used to clear all the data from the set data structure. All elements from set will clear.\n",
    " - set clear() in python\n",
    " - Initialize a set.\n",
    " - User the clear method and clear the set.\n",
    " - Print the set and you will see an empty one.\n",
    "\n",
    "__17) Difference between remove and pop?__  \n",
    "- When you explicitly supply the index value, the pop() function pops the required elements and returns it.  \n",
    "- The remove() function, on the other hand, is used to remove the value where we do not need the removed value to be returned. This function takes the element value itself as the parameter.  \n",
    "\n",
    "\n",
    " __18) Difference between append and extend?__  \n",
    " \n",
    "- append() adds a single element to the end of the list while, extend() can add multiple individual elements to the end of the list.   \n",
    "- append() takes a single element as argument while, extend() takes an iterable as argument (list, tuple, dictionaries, sets, strings).  \n",
    "\n",
    "\n",
    "__19) Difference between indexing and Slicing?__  \n",
    "\n",
    "- “Indexing” means referring to an element of an iterable by its position within the iterable.  \n",
    "- “Slicing” means getting a subset of elements from an iterable based on their indices.  \n",
    "\n",
    "\n",
    "__20) Difference between sort and sorted?__  \n",
    "\n",
    "- The primary difference between the list sort() function and the sorted() function is that the sort() function will modify the list it is called on.  \n",
    "- The sorted() function will create a new list containing a sorted version of the list it is given.  \n",
    "- The sort() function modifies the list in-place and has no return value.  \n",
    "\n",
    "\n",
    "__21) Difference between reverse and reversed?__  \n",
    "\n",
    "- reverse() actually reverses the elements in the container.  \n",
    "- reversed() doesn't actually reverse anything, it merely returns an object that can be used to iterate over the container's elements in reverse order. If that's what you need, it's often faster than actually reversing the elements.  \n",
    "\n",
    "\n",
    "__22.Difference between copy and deepcopy?__  \n",
    "\n",
    "- A shallow copy constructs a new compound object and then (to the extent possible) inserts references into it to the objects found in the original.  \n",
    "- A deep copy constructs a new compound object and then, recursively, inserts copies into it of the objects found in the original.\n"
   ]
  },
  {
   "cell_type": "markdown",
   "id": "88ec9b39",
   "metadata": {},
   "source": [
    "__23) How to remove duplicate elements in the list?__  \n",
    "- We can convert the list into set to remove duplicates.  \n",
    "- A set doesn't contain any duplicate values, using this key we can remove the duplicate elements present in the list"
   ]
  },
  {
   "cell_type": "code",
   "execution_count": 9,
   "id": "29a6aa45",
   "metadata": {},
   "outputs": [
    {
     "name": "stdout",
     "output_type": "stream",
     "text": [
      "[1, 2, 3, 23]\n"
     ]
    }
   ],
   "source": [
    "list1=[1,2,3,2,23,3,3,2,2,1]\n",
    "print(list(set(list1)))"
   ]
  },
  {
   "cell_type": "markdown",
   "id": "604473b4",
   "metadata": {},
   "source": [
    "__24) How to find an index of an element in the python list?__  \n",
    "\n",
    "- The index() method returns the index of the specified element in the list.  \n",
    "- The index() method returns the position at the first occurrence of the specified value.   \n",
    "- Syntax: list.index(elmnt)."
   ]
  },
  {
   "cell_type": "code",
   "execution_count": 11,
   "id": "e8b98a3d",
   "metadata": {},
   "outputs": [
    {
     "name": "stdout",
     "output_type": "stream",
     "text": [
      "3\n"
     ]
    }
   ],
   "source": [
    "list1=['a','b','c','d','e']\n",
    "print(list1.index('d'))"
   ]
  },
  {
   "cell_type": "markdown",
   "id": "42ac32e2",
   "metadata": {},
   "source": [
    "__25) How to find the occurrences of an element in the python list?__  \n",
    "\n",
    "- Use collections.Counter() to count the number of occurrences of all elements\n",
    "\n",
    " - a_list = [\"a\", \"b\", \"a\"]\n",
    " - occurrences = collections. Counter(a_list)\n",
    "\n",
    " -  print(occurrences)\n",
    "\n",
    " -  print(occurrences[\"a\"])\n"
   ]
  },
  {
   "cell_type": "code",
   "execution_count": 14,
   "id": "1985748e",
   "metadata": {},
   "outputs": [
    {
     "name": "stdout",
     "output_type": "stream",
     "text": [
      "Counter({'a': 2, 'b': 1})\n",
      "2\n"
     ]
    }
   ],
   "source": [
    "import collections\n",
    "a_list = [\"a\", \"b\", \"a\"]\n",
    "\n",
    "occurrences = collections.Counter(a_list)\n",
    "\n",
    "print(occurrences)\n",
    "\n",
    "print(occurrences[\"a\"])"
   ]
  },
  {
   "cell_type": "markdown",
   "id": "212afa49",
   "metadata": {},
   "source": [
    "__26) How to insert an item at a given position?__  \n",
    "\n",
    "- If you want to insert an element at a given position in list, use the insert(pos, obj) method.  It accepts one object and adds that object at the position pos of the list on which it is called.  \n",
    "- If you want do this in tuple first convert tuple into list and then perform the operation"
   ]
  },
  {
   "cell_type": "code",
   "execution_count": 15,
   "id": "60622135",
   "metadata": {
    "scrolled": true
   },
   "outputs": [
    {
     "name": "stdout",
     "output_type": "stream",
     "text": [
      "[2, 0, 3, 1, -4, -1, -4]\n"
     ]
    }
   ],
   "source": [
    "my_list = [2, 3, 1, -4, -1, -4]\n",
    "my_list.insert(1, 0)\n",
    "print(my_list)"
   ]
  },
  {
   "cell_type": "markdown",
   "id": "d52f70d6",
   "metadata": {},
   "source": [
    "__27) How to check if an item is in the list?__  \n",
    "- Method 1 : Naive Method  \n",
    "\n",
    "\n",
    " - In Naive method, one easily uses a loop that iterates through all the elements to check the existence of the target element. This is the simplest way to check the existence of the element in the list.  \n",
    " \n",
    "\n",
    "- Method 2 : Using in  \n",
    "\n",
    "\n",
    " - Python in is the most conventional way to check if an element exists in list or not. This particular way returns True if element exists in list and False if the element does not exists in list. List need not be sorted to practice this approach of checking."
   ]
  },
  {
   "cell_type": "code",
   "execution_count": 16,
   "id": "ccf965fa",
   "metadata": {
    "scrolled": true
   },
   "outputs": [
    {
     "name": "stdout",
     "output_type": "stream",
     "text": [
      "Checking if 4 exists in list ( using loop ) : \n",
      "Element Exists\n",
      "Checking if 4 exists in list ( using in ) : \n",
      "Element Exists\n"
     ]
    }
   ],
   "source": [
    "test_list = [ 1, 6, 3, 5, 3, 4 ]\n",
    "  \n",
    "print(\"Checking if 4 exists in list ( using loop ) : \")\n",
    "  \n",
    "# Checking if 4 exists in list \n",
    "# using loop\n",
    "for i in test_list:\n",
    "    if(i == 4) :\n",
    "        print (\"Element Exists\")\n",
    "  \n",
    "print(\"Checking if 4 exists in list ( using in ) : \")\n",
    "  \n",
    "# Checking if 4 exists in list \n",
    "# using in\n",
    "if (4 in test_list):\n",
    "    print (\"Element Exists\")"
   ]
  },
  {
   "cell_type": "markdown",
   "id": "fdbbc253",
   "metadata": {},
   "source": [
    "__28) How to flatten a list in python?__  \n",
    "- The most common way to solve the problem is by using loops. I think most of you already got it. Let’s see the steps to solve the problem using loops.\n",
    "\n",
    " - Initialize the list of lists with dummy data and name it as data.\n",
    " - Now, initialize an empty list called flat_list.\n",
    " - Iterate over the data.\n",
    " - Unpack all the elements from the current list.\n",
    " - Add them to the flat_list using the list append method.\n",
    " - Print the result.\n",
    "- See the code for the problem below.\n"
   ]
  },
  {
   "cell_type": "code",
   "execution_count": 17,
   "id": "3c039bb9",
   "metadata": {},
   "outputs": [
    {
     "name": "stdout",
     "output_type": "stream",
     "text": [
      "[1, 2, 3, 4, 5, 6, 7, 8, 9, 10]\n"
     ]
    }
   ],
   "source": [
    "data = [[1, 2, 3], [4, 5], [6, 7, 8, 9, 10]]\n",
    "flat_list = []\n",
    "\n",
    "# iterating over the data\n",
    "for item in data:\n",
    "    # appending elements to the flat_list\n",
    "    flat_list += item\n",
    "\n",
    "# printing the resultantn flat_list\n",
    "print(flat_list)"
   ]
  },
  {
   "cell_type": "markdown",
   "id": "d5afea7e",
   "metadata": {},
   "source": [
    "__29) How to convert python list to other data structures like set, tuple, dictionary?__   \n",
    "- We can use list() function to convert a set or tuple to list.  \n",
    "- Similarly we can also use set(),tuple() to convert list into set and tuple formats\n"
   ]
  },
  {
   "cell_type": "code",
   "execution_count": 19,
   "id": "174e497f",
   "metadata": {},
   "outputs": [
    {
     "name": "stdout",
     "output_type": "stream",
     "text": [
      "{1, 2, 3}\n",
      "(1, 2, 3)\n"
     ]
    }
   ],
   "source": [
    "list1=[1,2,3]\n",
    "print(set(list1))\n",
    "print(tuple(list1))"
   ]
  },
  {
   "cell_type": "markdown",
   "id": "3d419135",
   "metadata": {},
   "source": [
    "__To convert list into dictionary:__  \n",
    "\n",
    "- we can use the Python zip() function. This function lets us merge two lists together. We can use one list as the keys for the dictionary and the other as the values.  \n",
    "\n",
    "\n",
    "- Suppose we have two lists: one containing a list of fruits, and the other containing the price for an individual piece of fruit. We want to create a single dictionary that stores the name of a fruit, alongside its price. We can use the following code to accomplish this task:"
   ]
  },
  {
   "cell_type": "code",
   "execution_count": 18,
   "id": "e8c7ff04",
   "metadata": {},
   "outputs": [
    {
     "name": "stdout",
     "output_type": "stream",
     "text": [
      "{'Apple': 0.35, 'Pear': 0.4, 'Peach': 0.4, 'Banana': 0.28}\n"
     ]
    }
   ],
   "source": [
    "fruits = [\"Apple\", \"Pear\", \"Peach\", \"Banana\"]\n",
    "prices = [0.35, 0.40, 0.40, 0.28]\n",
    "\n",
    "fruit_dictionary = dict(zip(fruits, prices))\n",
    "\n",
    "print(fruit_dictionary)"
   ]
  },
  {
   "cell_type": "markdown",
   "id": "7e98e8f8",
   "metadata": {},
   "source": [
    "__30) How to apply a function to all items in the list?__  \n",
    "\n",
    "Use map() to apply a function to a list\n",
    "\n",
    "• a_list = [\"a\", \"b\", \"c\"]\n",
    "\n",
    "• map_object = map(str. upper, a_list) -------capitalize each letter.\n",
    "\n",
    "• new_list = list(map_object)\n",
    "\n",
    "• print(new_list)\n"
   ]
  },
  {
   "cell_type": "code",
   "execution_count": 21,
   "id": "acbd4365",
   "metadata": {},
   "outputs": [
    {
     "name": "stdout",
     "output_type": "stream",
     "text": [
      "['A', 'B', 'C']\n"
     ]
    }
   ],
   "source": [
    "a_list = [\"a\", \"b\", \"c\"]\n",
    "map_object = map(str. upper, a_list) \n",
    "new_list = list(map_object)\n",
    "print(new_list)\n"
   ]
  },
  {
   "cell_type": "markdown",
   "id": "e539d2a2",
   "metadata": {},
   "source": [
    "__31) How to filter the elements based on a function in a python list?__  \n",
    "\n",
    "- Python has a built-in function called filter() that allows you to filter a list (or a tuple) in a more beautiful way.   \n",
    "- The filter() function iterates over the elements of the list and applies the fn() function to each element. It returns an iterator for the elements where the fn() returns True .\n"
   ]
  },
  {
   "cell_type": "code",
   "execution_count": 22,
   "id": "f6475d78",
   "metadata": {},
   "outputs": [
    {
     "name": "stdout",
     "output_type": "stream",
     "text": [
      "[70, 80, 90]\n"
     ]
    }
   ],
   "source": [
    "\n",
    "scores = [70, 60, 80, 90, 50]\n",
    "filtered = filter(lambda score: score >= 70, scores)\n",
    "\n",
    "print(list(filtered))\n"
   ]
  },
  {
   "cell_type": "markdown",
   "id": "f74d79cd",
   "metadata": {},
   "source": [
    "__32) How python lists are stored in memory?__\n",
    "  \n",
    "  Python employs a different approach. Instead of storing values in the memory space reserved by the variable, Python has the variable refer to the value. Similar to pointers in C, variables in Python refer to values (or objects) stored somewhere in memory. In fact, all variable names in Python are said to be references to the values, some of which are front loaded by Python and therefore exist before the name references occur (more on this later). Python keeps an internal counter on how many references an object has. Once the counter goes to zero — meaning that no reference is made to the object — the garbage collector in Python removes the object , thus freeing up the memory."
   ]
  },
  {
   "cell_type": "code",
   "execution_count": null,
   "id": "e64e8c4f",
   "metadata": {},
   "outputs": [],
   "source": []
  }
 ],
 "metadata": {
  "kernelspec": {
   "display_name": "Python 3",
   "language": "python",
   "name": "python3"
  },
  "language_info": {
   "codemirror_mode": {
    "name": "ipython",
    "version": 3
   },
   "file_extension": ".py",
   "mimetype": "text/x-python",
   "name": "python",
   "nbconvert_exporter": "python",
   "pygments_lexer": "ipython3",
   "version": "3.8.5"
  }
 },
 "nbformat": 4,
 "nbformat_minor": 5
}
