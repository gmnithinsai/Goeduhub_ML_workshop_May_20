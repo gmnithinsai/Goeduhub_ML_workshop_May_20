{
 "cells": [
  {
   "cell_type": "markdown",
   "id": "6e3b80b7",
   "metadata": {},
   "source": [
    "# Goeduhub | Task - 1 : Python Programming  \n",
    "  \n",
    "<hr style=\"border:1px solid black\"></hr>"
   ]
  },
  {
   "cell_type": "markdown",
   "id": "2f0eb026",
   "metadata": {},
   "source": [
    "__(1) We are having three lists like this__  \n",
    "\n",
    "|Colors|Fruits|Animals|\n",
    "|:----|:----|:----|\n",
    "|yellow|Apple|Tiger|\n",
    "|Green|Papaya|Lion|\n",
    "|White|Mango|Deer|\n",
    "|Black|Orange|Zebra|\n"
   ]
  },
  {
   "cell_type": "markdown",
   "id": "d5cdcab3",
   "metadata": {},
   "source": [
    "i. Write a program that asks user to enter a Color/Fruit/Animal name and it should tell which category belongs to , like its is a fruit or color or Animal"
   ]
  },
  {
   "cell_type": "code",
   "execution_count": 6,
   "id": "43db5454",
   "metadata": {},
   "outputs": [
    {
     "name": "stdout",
     "output_type": "stream",
     "text": [
      "Enter a Color/Fruit/Animal name:Tiger\n",
      "Category: Animals\n"
     ]
    }
   ],
   "source": [
    "Colors=['yellow','green','white','black']  \n",
    "Fruits=['apple','papaya','mango','orange']  \n",
    "Animals=['tiger','lion','deer','zebra']\n",
    "\n",
    "object_=input(\"Enter a Color/Fruit/Animal name:\")\n",
    "object_.lower()\n",
    "if object_ in Colors:\n",
    "    print(\"Category: Color\")\n",
    "elif object_ in Fruits:\n",
    "    print(\"Category: Fruits\")\n",
    "else:\n",
    "    print('Category: Animals')"
   ]
  },
  {
   "cell_type": "markdown",
   "id": "af0755dc",
   "metadata": {},
   "source": [
    "ii. Write a program that asks user to enter two items and it tells you if they both are in same category or not. For example if I enter yellow and Black, it will print \"Both are colors\" but if I enter yellow and Tiger it should print \"They don't belong to same category\""
   ]
  },
  {
   "cell_type": "code",
   "execution_count": 24,
   "id": "32ebdd5d",
   "metadata": {},
   "outputs": [
    {
     "name": "stdout",
     "output_type": "stream",
     "text": [
      "Enter a color/fruit/animal name:tiger\n",
      "Enter a color/fruit/animal name:yellow\n",
      "They don't belong to same category\n"
     ]
    }
   ],
   "source": [
    "object_1=input(\"Enter a color/fruit/animal name:\")\n",
    "object_2=input('Enter a color/fruit/animal name:')\n",
    "category=[Colors,Fruits,Animals]\n",
    "for i in range(3):\n",
    "    if object_1 in category[i] and object_2 in category[i]:\n",
    "        print(\"They belongs to same category\")\n",
    "        break\n",
    "else:\n",
    "    print(\"They don't belong to same category\")\n",
    "        \n",
    "    "
   ]
  },
  {
   "cell_type": "markdown",
   "id": "fbd5af11",
   "metadata": {},
   "source": [
    "<hr style=\"border:1px solid black\"></hr>"
   ]
  },
  {
   "cell_type": "markdown",
   "id": "9490a25a",
   "metadata": {},
   "source": [
    "__2.  Write a python program that can tell you if your grade score good or not . Normal Score range is 40 to 60.__\n",
    "\n",
    "  i. Ask user to enter his score.\n",
    "\n",
    "  ii. If it is below 40 to 60 range then print that score is low\n",
    "\n",
    "  iii. If it is above 60 then print that it is good otherwise print that it is normal\n",
    "\n"
   ]
  },
  {
   "cell_type": "code",
   "execution_count": 28,
   "id": "e9797798",
   "metadata": {},
   "outputs": [
    {
     "name": "stdout",
     "output_type": "stream",
     "text": [
      "Hey user! Enter your score58\n",
      "Your score is normal :|\n"
     ]
    }
   ],
   "source": [
    "score=int(input(\"Hey user! Enter your score\"))\n",
    "if score<40:\n",
    "    print(\"Your score is low :(\")\n",
    "elif score>60:\n",
    "    print(\"Your score is Good :)\")\n",
    "else:\n",
    "    print(\"Your score is normal :|\")\n"
   ]
  },
  {
   "cell_type": "markdown",
   "id": "288f40bb",
   "metadata": {},
   "source": [
    "<hr style=\"border:1px solid black\"></hr>"
   ]
  },
  {
   "cell_type": "markdown",
   "id": "457fc137",
   "metadata": {},
   "source": [
    "__3.  After appearing in exam 10 times you got this result,__\n",
    "\n",
    "result = [\"Pass\",\"Fail\",\"Fail\",\"Pass\",\"Fail\",\"Pass\",\"Pass\",\"Fail\",\"Fail\",\"Fail\"]\n",
    "\n",
    "Using for loop figure out how many times you got Pass\n",
    "\n"
   ]
  },
  {
   "cell_type": "code",
   "execution_count": 31,
   "id": "54d35d60",
   "metadata": {},
   "outputs": [
    {
     "name": "stdout",
     "output_type": "stream",
     "text": [
      "Hurrah! I got passed 4 times in exam\n"
     ]
    }
   ],
   "source": [
    "result = [\"Pass\",\"Fail\",\"Fail\",\"Pass\",\"Fail\",\"Pass\",\"Pass\",\"Fail\",\"Fail\",\"Fail\"]\n",
    "passcount=0\n",
    "for i in range(len(result)):\n",
    "    if result[i]==\"Pass\":\n",
    "        \n",
    "        passcount+=1\n",
    "print(\"Hurrah! I got passed {} times in exam\".format(passcount))"
   ]
  },
  {
   "cell_type": "markdown",
   "id": "e32215e1",
   "metadata": {},
   "source": [
    "<hr style=\"border:1px solid black\"></hr>"
   ]
  },
  {
   "cell_type": "markdown",
   "id": "cea89aa1",
   "metadata": {},
   "source": [
    "__4.  Write a program that prints following shape__\n",
    "\n",
    "*\n",
    "\n",
    "\\* *\n",
    "\n",
    "\\* * *\n",
    "\n",
    "\\* * * *\n",
    "\n",
    "\\* * * * *\n",
    "\n",
    "\\* * * *\n",
    "\n",
    "\\* * *\n",
    "\n",
    "\\* *\n",
    "\n",
    "*"
   ]
  },
  {
   "cell_type": "code",
   "execution_count": 37,
   "id": "17d75e13",
   "metadata": {},
   "outputs": [
    {
     "name": "stdout",
     "output_type": "stream",
     "text": [
      "5\n",
      "*\n",
      "**\n",
      "***\n",
      "****\n",
      "*****\n",
      "****\n",
      "***\n",
      "**\n",
      "*\n"
     ]
    }
   ],
   "source": [
    "n=int(input())\n",
    "print('\\n'.join(['*'*(i+1) for i in range(n)]))\n",
    "print('\\n'.join(['*'*(i) for i in range(n-1,0,-1)]))"
   ]
  },
  {
   "cell_type": "markdown",
   "id": "d9f50b36",
   "metadata": {},
   "source": [
    "<hr style=\"border:1px solid black\"></hr>"
   ]
  },
  {
   "cell_type": "markdown",
   "id": "da7b31cb",
   "metadata": {},
   "source": [
    "__5.   Lets say you are running a 50 km race. Write a program that,__\n",
    "\n",
    "Upon completing each 10 km asks you \"are you tired?\"\n",
    "- If you reply \"yes\" then it should break and print \"you didn't finish the race\"\n",
    "- If you reply \"no\" then it should continue and ask \"are you tired\" on every km\n",
    "- If you finish all 50 km then it should print congratulations message\n"
   ]
  },
  {
   "cell_type": "code",
   "execution_count": 10,
   "id": "1426b77a",
   "metadata": {},
   "outputs": [
    {
     "name": "stdout",
     "output_type": "stream",
     "text": [
      "Are you tired?no\n",
      "Are you tired?no\n",
      "Are you tired?no\n",
      "Are you tired?no\n",
      "Are you tired?yes\n",
      "Congratulations!! You finished the race\n"
     ]
    }
   ],
   "source": [
    "for i in range(1,51):\n",
    "    if i%10 == 0:\n",
    "        n = input(\"Are you tired?\")\n",
    "        if n == \"YES\":\n",
    "            print(\"You didn't finish the race\")\n",
    "            break\n",
    "if i==50:\n",
    "    print(\"Congratulations!! You finished the race\")\n",
    "else:\n",
    "    print(f\"congrats! You still ran {i} KM\")\n",
    "\n"
   ]
  },
  {
   "cell_type": "code",
   "execution_count": 3,
   "id": "57539e41",
   "metadata": {},
   "outputs": [
    {
     "name": "stdout",
     "output_type": "stream",
     "text": [
      "Are you Tired?no\n",
      "Are you tired?no\n",
      "Are you tired?no\n",
      "Are you tired?yes\n",
      "You didn't complete the race\n"
     ]
    }
   ],
   "source": [
    "a=[]\n",
    "def ask_():\n",
    "    ask=input(\"Are you tired?\")\n",
    "    if ask==\"yes\":\n",
    "        print(\"You didn't complete the race\")\n",
    "    else:\n",
    "        ask_()\n",
    "\n",
    "for i in range(50):\n",
    "    a.append(i+1)\n",
    "for i in range(50):\n",
    "    if a[i]%10==0:\n",
    "        ask=input(\"Are you Tired?\")\n",
    "        if ask==\"no\":\n",
    "            ask_()\n",
    "            break\n",
    "        else:\n",
    "            print(\"you didn't complete the race\")\n",
    "            break  \n",
    "    if a[i]==50:\n",
    "        print(\"Congratulations\")\n",
    "        break\n",
    "\n",
    "                          \n",
    "\n"
   ]
  },
  {
   "cell_type": "markdown",
   "id": "125d900c",
   "metadata": {},
   "source": [
    "<hr style=\"border:1px solid black\"></hr>"
   ]
  },
  {
   "cell_type": "markdown",
   "id": "d7da6c92",
   "metadata": {},
   "source": [
    "__6.  Write a Python program to find those numbers which are divisible by 7 and multiple of 5, between 1500 and 2700 (both included).__"
   ]
  },
  {
   "cell_type": "code",
   "execution_count": 5,
   "id": "0cffb23e",
   "metadata": {},
   "outputs": [
    {
     "name": "stdout",
     "output_type": "stream",
     "text": [
      "1505 1540 1575 1610 1645 1680 1715 1750 1785 1820 1855 1890 1925 1960 1995 2030 2065 2100 2135 2170 2205 2240 2275 2310 2345 2380 2415 2450 2485 2520 2555 2590 2625 2660 2695 "
     ]
    }
   ],
   "source": [
    "for i in range(1500,2701):\n",
    "    if i%7==0 and i%5==0:\n",
    "        print(i,end=\" \")"
   ]
  },
  {
   "cell_type": "markdown",
   "id": "c9d343c8",
   "metadata": {},
   "source": [
    "<hr style=\"border:1px solid black\"></hr>"
   ]
  },
  {
   "cell_type": "markdown",
   "id": "d6deb08e",
   "metadata": {},
   "source": [
    "__7.   Print square of all numbers between 10 to 20 except even numbers__\n",
    "\n"
   ]
  },
  {
   "cell_type": "code",
   "execution_count": 8,
   "id": "d7d114a1",
   "metadata": {},
   "outputs": [
    {
     "name": "stdout",
     "output_type": "stream",
     "text": [
      "121\n",
      "169\n",
      "225\n",
      "289\n",
      "361\n"
     ]
    }
   ],
   "source": [
    "for i in range(11,20):\n",
    "    if i%2!=0:\n",
    "        print(i**2)"
   ]
  },
  {
   "cell_type": "markdown",
   "id": "4302019c",
   "metadata": {},
   "source": [
    "<hr style=\"border:1px solid black\"></hr>"
   ]
  },
  {
   "cell_type": "markdown",
   "id": "9ee0f61f",
   "metadata": {},
   "source": [
    "__8.  Your Marks for five Test(test1 to test5) looks like this,__  \n",
    "\n",
    "| test|Marks|\n",
    "|---|---|\n",
    "|Test 1|65|\n",
    "|Test 2|75|\n",
    "|Test 3|2100|\n",
    "|Test 4|95|\n",
    "|Test 5|83|\n",
    "\n",
    "Write a program that asks you to enter marks and program should tell you in which test that marks occurred. If marks is not found then it should print that as well.\n",
    "\n"
   ]
  },
  {
   "cell_type": "code",
   "execution_count": 14,
   "id": "3307c465",
   "metadata": {},
   "outputs": [
    {
     "name": "stdout",
     "output_type": "stream",
     "text": [
      "Enter Marks95\n",
      "test 4\n"
     ]
    }
   ],
   "source": [
    "dict_={\"Test_1\":65,\"Test_2\":75,\"Test 3\":2100,\"test 4\":95,\"test 5\":83}\n",
    "marks=int(input(\"Enter Marks\"))\n",
    "\n",
    "def get_key_(marks):\n",
    "    for key,value in dict_.items():\n",
    "        if marks==value:\n",
    "            return key\n",
    "    return \"Test doesnot exist\"\n",
    "print(get_key_(marks))\n"
   ]
  },
  {
   "cell_type": "code",
   "execution_count": null,
   "id": "25fae100",
   "metadata": {},
   "outputs": [],
   "source": []
  }
 ],
 "metadata": {
  "kernelspec": {
   "display_name": "Python 3",
   "language": "python",
   "name": "python3"
  },
  "language_info": {
   "codemirror_mode": {
    "name": "ipython",
    "version": 3
   },
   "file_extension": ".py",
   "mimetype": "text/x-python",
   "name": "python",
   "nbconvert_exporter": "python",
   "pygments_lexer": "ipython3",
   "version": "3.8.5"
  }
 },
 "nbformat": 4,
 "nbformat_minor": 5
}
