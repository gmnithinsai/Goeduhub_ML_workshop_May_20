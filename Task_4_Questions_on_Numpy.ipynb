{
 "cells": [
  {
   "cell_type": "markdown",
   "id": "ceb2e122",
   "metadata": {},
   "source": [
    "# GOEDUHUB | Task - 4 | Numpy | Reg-ID : GO_STP_2134|"
   ]
  },
  {
   "cell_type": "markdown",
   "id": "3e6e7cba",
   "metadata": {},
   "source": [
    "__1) Import the numpy package under the name np and Print the numpy version and the configuration__\n"
   ]
  },
  {
   "cell_type": "code",
   "execution_count": 2,
   "id": "dddce2cb",
   "metadata": {},
   "outputs": [
    {
     "name": "stdout",
     "output_type": "stream",
     "text": [
      "1.20.1\n",
      "blas_mkl_info:\n",
      "    libraries = ['mkl_rt']\n",
      "    library_dirs = ['C:/Users/Admin/anaconda3\\\\Library\\\\lib']\n",
      "    define_macros = [('SCIPY_MKL_H', None), ('HAVE_CBLAS', None)]\n",
      "    include_dirs = ['C:/Users/Admin/anaconda3\\\\Library\\\\include']\n",
      "blas_opt_info:\n",
      "    libraries = ['mkl_rt']\n",
      "    library_dirs = ['C:/Users/Admin/anaconda3\\\\Library\\\\lib']\n",
      "    define_macros = [('SCIPY_MKL_H', None), ('HAVE_CBLAS', None)]\n",
      "    include_dirs = ['C:/Users/Admin/anaconda3\\\\Library\\\\include']\n",
      "lapack_mkl_info:\n",
      "    libraries = ['mkl_rt']\n",
      "    library_dirs = ['C:/Users/Admin/anaconda3\\\\Library\\\\lib']\n",
      "    define_macros = [('SCIPY_MKL_H', None), ('HAVE_CBLAS', None)]\n",
      "    include_dirs = ['C:/Users/Admin/anaconda3\\\\Library\\\\include']\n",
      "lapack_opt_info:\n",
      "    libraries = ['mkl_rt']\n",
      "    library_dirs = ['C:/Users/Admin/anaconda3\\\\Library\\\\lib']\n",
      "    define_macros = [('SCIPY_MKL_H', None), ('HAVE_CBLAS', None)]\n",
      "    include_dirs = ['C:/Users/Admin/anaconda3\\\\Library\\\\include']\n",
      "None\n"
     ]
    }
   ],
   "source": [
    "import numpy as np\n",
    "print(np.__version__)\n",
    "print(np.show_config())"
   ]
  },
  {
   "cell_type": "markdown",
   "id": "b76c74dc",
   "metadata": {},
   "source": [
    "__2) Create a null vector of size 10__"
   ]
  },
  {
   "cell_type": "code",
   "execution_count": 7,
   "id": "188fef2d",
   "metadata": {},
   "outputs": [
    {
     "name": "stdout",
     "output_type": "stream",
     "text": [
      "[0. 0. 0. 0. 0. 0. 0. 0. 0. 0.]\n"
     ]
    }
   ],
   "source": [
    "print(np.zeros(10))"
   ]
  },
  {
   "cell_type": "markdown",
   "id": "f57440b9",
   "metadata": {},
   "source": [
    "__3) Create Simple 1-D array and check type and check data types in array__\n"
   ]
  },
  {
   "cell_type": "code",
   "execution_count": 8,
   "id": "f7b27053",
   "metadata": {},
   "outputs": [
    {
     "name": "stdout",
     "output_type": "stream",
     "text": [
      "<class 'numpy.ndarray'>\n",
      "int32\n"
     ]
    }
   ],
   "source": [
    "a=np.array([1,2,3,4,5])\n",
    "print(type(a))\n",
    "print(a.dtype)"
   ]
  },
  {
   "cell_type": "markdown",
   "id": "a4915d9d",
   "metadata": {},
   "source": [
    "__4) How to find number of dimensions, bytes per element and bytes of memory used?__\n"
   ]
  },
  {
   "cell_type": "code",
   "execution_count": 9,
   "id": "394bddd2",
   "metadata": {},
   "outputs": [
    {
     "name": "stdout",
     "output_type": "stream",
     "text": [
      "The size of an array 5\n",
      "Size of an element in array 4\n",
      "bytes of memory used: 20\n"
     ]
    }
   ],
   "source": [
    "print(\"The size of an array\",a.size)\n",
    "print(\"Size of an element in array\",a.itemsize)\n",
    "print(\"bytes of memory used:\",a.size*a.itemsize)"
   ]
  },
  {
   "cell_type": "markdown",
   "id": "e2c73a5c",
   "metadata": {},
   "source": [
    "__5) Create a null vector of size 10 but the fifth value which is 1__\n"
   ]
  },
  {
   "cell_type": "code",
   "execution_count": 10,
   "id": "ef5c5485",
   "metadata": {},
   "outputs": [
    {
     "name": "stdout",
     "output_type": "stream",
     "text": [
      "[0. 0. 0. 0. 5. 0. 0. 0. 0. 0.]\n"
     ]
    }
   ],
   "source": [
    "a=np.zeros(10)\n",
    "a[4]=5\n",
    "print(a)"
   ]
  },
  {
   "cell_type": "markdown",
   "id": "2bf740fb",
   "metadata": {},
   "source": [
    "__6) Create a vector with values ranging from 10 to 49__\n"
   ]
  },
  {
   "cell_type": "code",
   "execution_count": 12,
   "id": "a5eb3205",
   "metadata": {},
   "outputs": [
    {
     "name": "stdout",
     "output_type": "stream",
     "text": [
      "[10 11 12 13 14 15 16 17 18 19 20 21 22 23 24 25 26 27 28 29 30 31 32 33\n",
      " 34 35 36 37 38 39 40 41 42 43 44 45 46 47 48]\n"
     ]
    }
   ],
   "source": [
    "#print(np.range(10,49))\n",
    "print(np.arange(10,49))"
   ]
  },
  {
   "cell_type": "markdown",
   "id": "ac0eeac8",
   "metadata": {},
   "source": [
    "__7) Reverse a vector (first element becomes last)__\n"
   ]
  },
  {
   "cell_type": "code",
   "execution_count": 16,
   "id": "a05b03f2",
   "metadata": {},
   "outputs": [
    {
     "name": "stdout",
     "output_type": "stream",
     "text": [
      "[10 11 12 13 14 15 16 17 18 19]\n",
      "Reversed vector [19 18 17 16 15 14 13 12 11 10]\n"
     ]
    }
   ],
   "source": [
    "x=np.arange(10,20)\n",
    "print(x)\n",
    "print(\"Reversed vector\",x[::-1])"
   ]
  },
  {
   "cell_type": "markdown",
   "id": "6fc91eaf",
   "metadata": {},
   "source": [
    "__8) Create a 3x3 matrix with values ranging from 0 to 8__\n"
   ]
  },
  {
   "cell_type": "code",
   "execution_count": 18,
   "id": "f8a9ba4c",
   "metadata": {},
   "outputs": [
    {
     "name": "stdout",
     "output_type": "stream",
     "text": [
      "[[0 1 2]\n",
      " [3 4 5]\n",
      " [6 7 8]]\n"
     ]
    }
   ],
   "source": [
    "x=np.arange(0,9).reshape(3,3)\n",
    "print(x)"
   ]
  },
  {
   "cell_type": "markdown",
   "id": "2c1a93cd",
   "metadata": {},
   "source": [
    "__9) Find indices of non-zero elements from [1,2,0,0,4,0]__\n"
   ]
  },
  {
   "cell_type": "code",
   "execution_count": 20,
   "id": "04c34683",
   "metadata": {},
   "outputs": [
    {
     "name": "stdout",
     "output_type": "stream",
     "text": [
      "[2, 3, 5]\n"
     ]
    }
   ],
   "source": [
    "a=[1,2,0,0,4,0]\n",
    "print([i for i in range(len(a)) if a[i]==0])"
   ]
  },
  {
   "cell_type": "markdown",
   "id": "a5ab7e26",
   "metadata": {},
   "source": [
    "__10) Create a 3x3 identity matrix__\n"
   ]
  },
  {
   "cell_type": "code",
   "execution_count": 23,
   "id": "4a3ae27d",
   "metadata": {},
   "outputs": [
    {
     "name": "stdout",
     "output_type": "stream",
     "text": [
      "[[1. 0. 0.]\n",
      " [0. 1. 0.]\n",
      " [0. 0. 1.]]\n"
     ]
    }
   ],
   "source": [
    "print(np.eye(3))"
   ]
  },
  {
   "cell_type": "markdown",
   "id": "0b08c7e3",
   "metadata": {},
   "source": [
    "__11) Create a 3x3x3 array with random values__\n"
   ]
  },
  {
   "cell_type": "code",
   "execution_count": 28,
   "id": "2d159a24",
   "metadata": {},
   "outputs": [
    {
     "name": "stdout",
     "output_type": "stream",
     "text": [
      "[[[0.52672674 0.20394705 0.78161457]\n",
      "  [0.13759745 0.08542231 0.58344229]\n",
      "  [0.7060722  0.88184198 0.72244217]]\n",
      "\n",
      " [[0.67138253 0.60511908 0.79416286]\n",
      "  [0.10021965 0.38074487 0.94258258]\n",
      "  [0.72657275 0.94950616 0.8126249 ]]\n",
      "\n",
      " [[0.94807247 0.45954123 0.98915735]\n",
      "  [0.53206349 0.44875878 0.83519233]\n",
      "  [0.14878579 0.19095495 0.63782109]]]\n"
     ]
    }
   ],
   "source": [
    "print(np.random.random((3,3,3)))"
   ]
  },
  {
   "cell_type": "code",
   "execution_count": 25,
   "id": "f998d71e",
   "metadata": {
    "scrolled": true
   },
   "outputs": [
    {
     "name": "stdout",
     "output_type": "stream",
     "text": [
      "[[[19 16 10]\n",
      "  [19 16 16]\n",
      "  [16 16 13]]\n",
      "\n",
      " [[17 15 13]\n",
      "  [18 19 10]\n",
      "  [12 15 14]]\n",
      "\n",
      " [[14 15 11]\n",
      "  [11 14 17]\n",
      "  [15 16 13]]]\n"
     ]
    }
   ],
   "source": [
    "print(np.random.randint(10,20,27).reshape(3,3,3))"
   ]
  },
  {
   "cell_type": "markdown",
   "id": "db5b9cca",
   "metadata": {},
   "source": [
    "__12) Create a 10x10 array with random values and find the minimum and maximum values__"
   ]
  },
  {
   "cell_type": "code",
   "execution_count": 33,
   "id": "34173c72",
   "metadata": {},
   "outputs": [
    {
     "name": "stdout",
     "output_type": "stream",
     "text": [
      "[[15 15 13 11 14 15 13 14 13 16]\n",
      " [16 16 14 15 11 16 18 14 17 15]\n",
      " [16 10 16 17 19 10 17 15 14 13]\n",
      " [17 11 12 17 14 13 12 18 14 17]\n",
      " [18 17 17 18 10 16 16 19 12 11]\n",
      " [10 11 10 18 10 18 18 11 19 15]\n",
      " [16 19 17 15 14 17 11 14 18 18]\n",
      " [10 17 14 11 10 10 13 16 10 19]\n",
      " [19 17 11 12 11 17 12 15 16 10]\n",
      " [19 15 10 16 17 18 16 13 13 12]]\n",
      "\n",
      "The Maximum Value: 19\n",
      "The Minimum Value: 10\n"
     ]
    }
   ],
   "source": [
    "a=np.random.randint(10,20,100).reshape(10,10)\n",
    "print(a)\n",
    "print()\n",
    "print(\"The Maximum Value:\",a.max())\n",
    "print(\"The Minimum Value:\",a.min())\n"
   ]
  },
  {
   "cell_type": "markdown",
   "id": "c983d374",
   "metadata": {},
   "source": [
    "__13) Create a random vector of size 30 and find the mean value__\n"
   ]
  },
  {
   "cell_type": "code",
   "execution_count": 37,
   "id": "1ded4ded",
   "metadata": {},
   "outputs": [
    {
     "name": "stdout",
     "output_type": "stream",
     "text": [
      "[0.3929469  0.54204443 0.38818806 0.14804411 0.55340359 0.69052309\n",
      " 0.58577852 0.0556429  0.34229482 0.14559023 0.87337511 0.44383449\n",
      " 0.5006041  0.74570388 0.24604633 0.18371458 0.29558726 0.36355797\n",
      " 0.52150958 0.71528753 0.43331994 0.61748821 0.70407477 0.74861747\n",
      " 0.14332839 0.8837824  0.10087151 0.80212832 0.94016064 0.5933926 ]\n",
      "\n",
      "The Mean of X is :  0.49002805764595736\n"
     ]
    }
   ],
   "source": [
    "x=np.random.random(30)\n",
    "print(x)\n",
    "print()\n",
    "print(\"The Mean of X is : \",x.mean())"
   ]
  },
  {
   "cell_type": "markdown",
   "id": "7e6539a9",
   "metadata": {},
   "source": [
    "__14) Create a 2d array with 1 on the border and 0 inside__\n"
   ]
  },
  {
   "cell_type": "code",
   "execution_count": 41,
   "id": "3a5a218d",
   "metadata": {},
   "outputs": [
    {
     "name": "stdout",
     "output_type": "stream",
     "text": [
      "[[1. 1. 1. 1. 1.]\n",
      " [1. 1. 1. 1. 1.]\n",
      " [1. 1. 1. 1. 1.]\n",
      " [1. 1. 1. 1. 1.]\n",
      " [1. 1. 1. 1. 1.]]\n",
      "\n",
      "New array:\n",
      "\n",
      "[[1. 1. 1. 1. 1.]\n",
      " [1. 0. 0. 0. 1.]\n",
      " [1. 0. 0. 0. 1.]\n",
      " [1. 0. 0. 0. 1.]\n",
      " [1. 1. 1. 1. 1.]]\n"
     ]
    }
   ],
   "source": [
    "x=np.ones((5,5))\n",
    "print(x)\n",
    "print()\n",
    "print(\"New array:\")\n",
    "print()\n",
    "x[1:4,1:-1]=0\n",
    "print(x)"
   ]
  },
  {
   "cell_type": "code",
   "execution_count": 42,
   "id": "bf193f5b",
   "metadata": {},
   "outputs": [
    {
     "name": "stdout",
     "output_type": "stream",
     "text": [
      "8\n",
      "8\n",
      "[[1. 1. 1. 1. 1. 1. 1. 1.]\n",
      " [1. 0. 0. 0. 0. 0. 0. 1.]\n",
      " [1. 0. 0. 0. 0. 0. 0. 1.]\n",
      " [1. 0. 0. 0. 0. 0. 0. 1.]\n",
      " [1. 0. 0. 0. 0. 0. 0. 1.]\n",
      " [1. 0. 0. 0. 0. 0. 0. 1.]\n",
      " [1. 0. 0. 0. 0. 0. 0. 1.]\n",
      " [1. 1. 1. 1. 1. 1. 1. 1.]]\n"
     ]
    }
   ],
   "source": [
    "x=int(input())\n",
    "y=int(input())\n",
    "z=np.ones((x,y))\n",
    "z[1:-1,1:-1]=0\n",
    "print(z)"
   ]
  },
  {
   "cell_type": "markdown",
   "id": "8ab39ae0",
   "metadata": {},
   "source": [
    "__15) How to add a border (filled with 0's) around an existing array?__\n"
   ]
  },
  {
   "cell_type": "code",
   "execution_count": 48,
   "id": "cd7c6f89",
   "metadata": {},
   "outputs": [
    {
     "name": "stdout",
     "output_type": "stream",
     "text": [
      "[[13 12 12 19 15]\n",
      " [10 19 17 10 16]\n",
      " [16 17 13 14 12]\n",
      " [18 10 11 14 17]\n",
      " [14 13 12 18 14]]\n",
      "\n",
      "New array:\n",
      "[[ 0  0  0  0  0]\n",
      " [ 0 19 17 10  0]\n",
      " [ 0 17 13 14  0]\n",
      " [ 0 10 11 14  0]\n",
      " [ 0  0  0  0  0]]\n"
     ]
    }
   ],
   "source": [
    "x=np.random.randint(10,20,25).reshape(5,5)\n",
    "print(x)\n",
    "print()\n",
    "print(\"New array:\")\n",
    "x[0:-1,0]=0\n",
    "x[0,0:-1]=0\n",
    "x[-1,0:-1]=0\n",
    "x[0:,-1]=0\n",
    "print(x)"
   ]
  },
  {
   "cell_type": "code",
   "execution_count": 49,
   "id": "181c1008",
   "metadata": {},
   "outputs": [
    {
     "name": "stdout",
     "output_type": "stream",
     "text": [
      "4\n",
      "5\n",
      "[[14 11 17 15 13]\n",
      " [18 13 17 15 18]\n",
      " [14 16 13 11 16]\n",
      " [16 18 15 15 14]]\n",
      "\n",
      "New array:\n",
      "[[ 0  0  0  0  0]\n",
      " [ 0 13 17 15  0]\n",
      " [ 0 16 13 11  0]\n",
      " [ 0  0  0  0  0]]\n"
     ]
    }
   ],
   "source": [
    "m=int(input())\n",
    "n=int(input())\n",
    "x=np.random.randint(10,20,m*n).reshape(m,n)\n",
    "print(x)\n",
    "print()\n",
    "print(\"New array:\")\n",
    "x[0:-1,0]=0\n",
    "x[0,0:-1]=0\n",
    "x[-1,0:-1]=0\n",
    "x[0:,-1]=0\n",
    "print(x)"
   ]
  },
  {
   "cell_type": "markdown",
   "id": "417584ed",
   "metadata": {},
   "source": [
    "__16) How to Accessing/Changing specific elements, rows, columns, etc in Numpy array?__  \n",
    "\n",
    "\n",
    "- Example -\n",
    "[[ 1 2 3 4 5 6 7] [ 8 9 10 11 12 13 14]]\n",
    "\n",
    "- Get 13, get first row only, get 3rd column only, get [2, 4, 6], replace 13 by 20\n",
    "\n",
    "\n"
   ]
  },
  {
   "cell_type": "code",
   "execution_count": 66,
   "id": "86ad90d1",
   "metadata": {},
   "outputs": [
    {
     "name": "stdout",
     "output_type": "stream",
     "text": [
      "[[1, 2, 3, 4, 5, 6, 7], [8, 9, 10, 11, 12, 13, 14]]\n",
      "\n",
      "Get 13:\n",
      "13\n",
      "\n",
      "Get First row only:\n",
      "[1, 2, 3, 4, 5, 6, 7]\n",
      "\n",
      "Get 3rd column only\n",
      "3 10\n",
      "\n",
      "Get 2,4,6:\n",
      "[2, 4, 6]\n",
      "\n",
      "Replace 13 by 20:\n",
      "[[1, 2, 3, 4, 5, 6, 7], [8, 9, 10, 11, 12, 20, 14]]\n"
     ]
    }
   ],
   "source": [
    "a=[[1, 2, 3, 4, 5, 6, 7], [ 8, 9, 10, 11, 12, 13, 14]]\n",
    "print(a)\n",
    "print()\n",
    "print(\"Get 13:\")\n",
    "print(a[1][-2])\n",
    "print()\n",
    "print(\"Get First row only:\")\n",
    "print(a[0])\n",
    "print()\n",
    "print(\"Get 3rd column only\")\n",
    "print(a[0][2],a[1][2])\n",
    "print()\n",
    "print(\"Get 2,4,6:\")\n",
    "print([a[0][i] for i in range(1,7,2)])\n",
    "print()\n",
    "print(\"Replace 13 by 20:\")\n",
    "a[1][-2]=20\n",
    "print(a)\n"
   ]
  },
  {
   "cell_type": "markdown",
   "id": "9cbbf8c4",
   "metadata": {},
   "source": [
    "__17) How to Convert a 1D array to a 2D array with 2 rows__\n",
    "\n"
   ]
  },
  {
   "cell_type": "code",
   "execution_count": 69,
   "id": "00762a76",
   "metadata": {},
   "outputs": [
    {
     "name": "stdout",
     "output_type": "stream",
     "text": [
      "[ 1  2  3  4  5 56]\n",
      "[[ 1  2  3]\n",
      " [ 4  5 56]]\n"
     ]
    }
   ],
   "source": [
    "x=np.array([1,2,3,4,5,56])\n",
    "print(x)\n",
    "print(x.reshape(2,3))\n"
   ]
  },
  {
   "cell_type": "markdown",
   "id": "f6c9ca02",
   "metadata": {},
   "source": [
    "__18) Create the following pattern without hardcoding. Use only numpy functions and the below input array a.__\n",
    "\n",
    "- Input:a = np.array([1,2,3])`\n",
    "- Desired Output:  \n",
    "    array([1, 1, 1, 2, 2, 2, 3, 3, 3, 1, 2, 3, 1, 2, 3, 1, 2, 3])\n"
   ]
  },
  {
   "cell_type": "code",
   "execution_count": 70,
   "id": "7bcf5823",
   "metadata": {},
   "outputs": [
    {
     "name": "stdout",
     "output_type": "stream",
     "text": [
      "[1 1 1 2 2 2 3 3 3 1 2 3 1 2 3 1 2 3]\n"
     ]
    }
   ],
   "source": [
    "a=np.array([1,2,3])\n",
    "print(np.r_[np.repeat(a,3),np.tile(a,3)])"
   ]
  },
  {
   "cell_type": "markdown",
   "id": "b5a273cf",
   "metadata": {},
   "source": [
    "__19) Write a program to show how Numpy taking less memory compared to Python List?__\n"
   ]
  },
  {
   "cell_type": "code",
   "execution_count": 71,
   "id": "20dcdd9a",
   "metadata": {},
   "outputs": [
    {
     "name": "stdout",
     "output_type": "stream",
     "text": [
      "28\n",
      "List consumed memory size 28000\n",
      "Numpy Memory consumed size: 4000\n"
     ]
    }
   ],
   "source": [
    "l=range(1000)\n",
    "import sys\n",
    "a=10\n",
    "print(sys.getsizeof(a))\n",
    "print(\"List consumed memory size\",sys.getsizeof(a)*len(l))\n",
    "a1=np.arange(1000)\n",
    "print(\"Numpy Memory consumed size:\",a1.size*a1.itemsize)"
   ]
  },
  {
   "cell_type": "markdown",
   "id": "c1deaa7e",
   "metadata": {},
   "source": [
    "__20) Write a program to show how Numpy taking less time compared to Python List?__\n",
    "\n"
   ]
  },
  {
   "cell_type": "code",
   "execution_count": 72,
   "id": "a713877c",
   "metadata": {},
   "outputs": [
    {
     "name": "stdout",
     "output_type": "stream",
     "text": [
      "27.98008918762207\n",
      "0.0\n"
     ]
    }
   ],
   "source": [
    "import time\n",
    "import sys\n",
    "\n",
    "size=100000\n",
    "l1=range(size)\n",
    "l2=range(size)\n",
    "\n",
    "start=time.time()\n",
    "result=[(x+y) for x,y in zip(l1,l2)]\n",
    "print((time.time()-start)*1000)\n",
    "\n",
    "n1=np.arange(100000)\n",
    "n2=np.arange(100000)\n",
    "\n",
    "start=time.time()\n",
    "result_=n1+n2\n",
    "print((time.time()-start)*1000)"
   ]
  },
  {
   "cell_type": "code",
   "execution_count": null,
   "id": "3d92cf73",
   "metadata": {},
   "outputs": [],
   "source": []
  }
 ],
 "metadata": {
  "kernelspec": {
   "display_name": "Python 3",
   "language": "python",
   "name": "python3"
  },
  "language_info": {
   "codemirror_mode": {
    "name": "ipython",
    "version": 3
   },
   "file_extension": ".py",
   "mimetype": "text/x-python",
   "name": "python",
   "nbconvert_exporter": "python",
   "pygments_lexer": "ipython3",
   "version": "3.8.5"
  }
 },
 "nbformat": 4,
 "nbformat_minor": 5
}
