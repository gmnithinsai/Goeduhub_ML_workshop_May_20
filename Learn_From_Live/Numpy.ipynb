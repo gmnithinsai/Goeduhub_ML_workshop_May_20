{
 "cells": [
  {
   "cell_type": "markdown",
   "id": "bb154400",
   "metadata": {},
   "source": [
    "# NUMPY | 26-05-2021 |"
   ]
  },
  {
   "cell_type": "code",
   "execution_count": 1,
   "id": "b7e39331",
   "metadata": {},
   "outputs": [],
   "source": [
    "import numpy as np"
   ]
  },
  {
   "cell_type": "markdown",
   "id": "e8201eee",
   "metadata": {},
   "source": [
    "__Create 1-D array__"
   ]
  },
  {
   "cell_type": "code",
   "execution_count": 2,
   "id": "3b1fb841",
   "metadata": {},
   "outputs": [
    {
     "name": "stdout",
     "output_type": "stream",
     "text": [
      "[1 2 4]\n",
      "<class 'numpy.ndarray'>\n"
     ]
    }
   ],
   "source": [
    "a=np.array([1,2,4])\n",
    "print(a)\n",
    "print(type(a))"
   ]
  },
  {
   "cell_type": "markdown",
   "id": "2012edc7",
   "metadata": {},
   "source": [
    "__Create Multi Dimensional Array__"
   ]
  },
  {
   "cell_type": "code",
   "execution_count": 15,
   "id": "2e8ae45e",
   "metadata": {},
   "outputs": [
    {
     "name": "stdout",
     "output_type": "stream",
     "text": [
      "[[1 2 3]\n",
      " [2 3 4]]\n",
      "int32\n",
      "\n",
      "[[1 2 3]\n",
      " [2 3 4]\n",
      " [3 4 5]]\n",
      "int32\n"
     ]
    }
   ],
   "source": [
    "b=np.array([[1,2,3],[2,3,4]])\n",
    "print(b)\n",
    "print(b.dtype)\n",
    "print()\n",
    "a=np.array([[1,2,3],[2,3,4],[3,4,5]])\n",
    "print(a)\n",
    "print(a.dtype)"
   ]
  },
  {
   "cell_type": "markdown",
   "id": "18d59bdc",
   "metadata": {},
   "source": [
    "__zeros()__"
   ]
  },
  {
   "cell_type": "code",
   "execution_count": 8,
   "id": "1c4947ad",
   "metadata": {},
   "outputs": [
    {
     "data": {
      "text/plain": [
       "array([[0., 0., 0.],\n",
       "       [0., 0., 0.]])"
      ]
     },
     "execution_count": 8,
     "metadata": {},
     "output_type": "execute_result"
    }
   ],
   "source": [
    "np.zeros((2,3))"
   ]
  },
  {
   "cell_type": "markdown",
   "id": "68e30c86",
   "metadata": {},
   "source": [
    "__arange()__"
   ]
  },
  {
   "cell_type": "code",
   "execution_count": 9,
   "id": "a23eb7dc",
   "metadata": {},
   "outputs": [
    {
     "data": {
      "text/plain": [
       "array([0, 1, 2, 3, 4, 5, 6, 7, 8, 9])"
      ]
     },
     "execution_count": 9,
     "metadata": {},
     "output_type": "execute_result"
    }
   ],
   "source": [
    "np.arange(10)"
   ]
  },
  {
   "cell_type": "code",
   "execution_count": 10,
   "id": "45e2c727",
   "metadata": {},
   "outputs": [
    {
     "data": {
      "text/plain": [
       "array([2. , 2.1, 2.2, 2.3, 2.4, 2.5, 2.6, 2.7, 2.8, 2.9])"
      ]
     },
     "execution_count": 10,
     "metadata": {},
     "output_type": "execute_result"
    }
   ],
   "source": [
    "np.arange(2,3,0.1)"
   ]
  },
  {
   "cell_type": "markdown",
   "id": "28bb5444",
   "metadata": {},
   "source": [
    "__linspace__"
   ]
  },
  {
   "cell_type": "code",
   "execution_count": 11,
   "id": "3176f3bf",
   "metadata": {},
   "outputs": [
    {
     "data": {
      "text/plain": [
       "array([1.  , 1.75, 2.5 , 3.25, 4.  ])"
      ]
     },
     "execution_count": 11,
     "metadata": {},
     "output_type": "execute_result"
    }
   ],
   "source": [
    "np.linspace(1,4,5)"
   ]
  },
  {
   "cell_type": "code",
   "execution_count": 13,
   "id": "1ef638e6",
   "metadata": {},
   "outputs": [
    {
     "data": {
      "text/plain": [
       "array([ 1.        ,  1.47368421,  1.94736842,  2.42105263,  2.89473684,\n",
       "        3.36842105,  3.84210526,  4.31578947,  4.78947368,  5.26315789,\n",
       "        5.73684211,  6.21052632,  6.68421053,  7.15789474,  7.63157895,\n",
       "        8.10526316,  8.57894737,  9.05263158,  9.52631579, 10.        ])"
      ]
     },
     "execution_count": 13,
     "metadata": {},
     "output_type": "execute_result"
    }
   ],
   "source": [
    "np.linspace(1,10,20)"
   ]
  },
  {
   "cell_type": "markdown",
   "id": "1c1a1127",
   "metadata": {},
   "source": [
    "__indices()__"
   ]
  },
  {
   "cell_type": "code",
   "execution_count": 16,
   "id": "c8cbea0a",
   "metadata": {
    "scrolled": true
   },
   "outputs": [
    {
     "data": {
      "text/plain": [
       "array([[[0, 0, 0],\n",
       "        [1, 1, 1]],\n",
       "\n",
       "       [[0, 1, 2],\n",
       "        [0, 1, 2]]])"
      ]
     },
     "execution_count": 16,
     "metadata": {},
     "output_type": "execute_result"
    }
   ],
   "source": [
    "np.indices((2,3))"
   ]
  },
  {
   "cell_type": "markdown",
   "id": "7cc5fff0",
   "metadata": {},
   "source": [
    "### Memory taken by list and a numpy"
   ]
  },
  {
   "cell_type": "code",
   "execution_count": 20,
   "id": "a995c332",
   "metadata": {},
   "outputs": [
    {
     "name": "stdout",
     "output_type": "stream",
     "text": [
      "28\n",
      "List consumed memory size 28000\n",
      "Numpy Memory consumed size: 4000\n"
     ]
    }
   ],
   "source": [
    "l=range(1000)\n",
    "import sys\n",
    "a=10\n",
    "print(sys.getsizeof(a))\n",
    "print(\"List consumed memory size\",sys.getsizeof(a)*len(l))\n",
    "a1=np.arange(1000)\n",
    "print(\"Numpy Memory consumed size:\",a1.size*a1.itemsize)"
   ]
  },
  {
   "cell_type": "markdown",
   "id": "d6ffc464",
   "metadata": {},
   "source": [
    "### Numpy vs List speed"
   ]
  },
  {
   "cell_type": "code",
   "execution_count": 23,
   "id": "f4055849",
   "metadata": {},
   "outputs": [
    {
     "name": "stdout",
     "output_type": "stream",
     "text": [
      "34.98268127441406\n",
      "0.99945068359375\n"
     ]
    }
   ],
   "source": [
    "import time\n",
    "import sys\n",
    "\n",
    "size=100000\n",
    "l1=range(size)\n",
    "l2=range(size)\n",
    "\n",
    "start=time.time()\n",
    "result=[(x+y) for x,y in zip(l1,l2)]\n",
    "print((time.time()-start)*1000)\n",
    "\n",
    "n1=np.arange(100000)\n",
    "n2=np.arange(100000)\n",
    "\n",
    "start=time.time()\n",
    "result_=n1+n2\n",
    "print((time.time()-start)*1000)"
   ]
  },
  {
   "cell_type": "markdown",
   "id": "43e3ba4e",
   "metadata": {},
   "source": [
    "## Numpy Operations"
   ]
  },
  {
   "cell_type": "code",
   "execution_count": 24,
   "id": "85d9758c",
   "metadata": {},
   "outputs": [
    {
     "name": "stdout",
     "output_type": "stream",
     "text": [
      "2\n"
     ]
    }
   ],
   "source": [
    "a=np.array([[1,2,3],[2,3,4]])\n",
    "print(a.ndim)"
   ]
  },
  {
   "cell_type": "code",
   "execution_count": 25,
   "id": "aab435c8",
   "metadata": {},
   "outputs": [
    {
     "name": "stdout",
     "output_type": "stream",
     "text": [
      "4\n"
     ]
    }
   ],
   "source": [
    "print(a.itemsize)"
   ]
  },
  {
   "cell_type": "code",
   "execution_count": 27,
   "id": "d924876d",
   "metadata": {},
   "outputs": [
    {
     "name": "stdout",
     "output_type": "stream",
     "text": [
      "int32\n"
     ]
    }
   ],
   "source": [
    "print(a.dtype)"
   ]
  },
  {
   "cell_type": "code",
   "execution_count": 28,
   "id": "041fc4ef",
   "metadata": {},
   "outputs": [
    {
     "name": "stdout",
     "output_type": "stream",
     "text": [
      "(2, 3)\n"
     ]
    }
   ],
   "source": [
    "print(a.shape)"
   ]
  },
  {
   "cell_type": "code",
   "execution_count": 29,
   "id": "96f42ccb",
   "metadata": {},
   "outputs": [
    {
     "name": "stdout",
     "output_type": "stream",
     "text": [
      "6\n"
     ]
    }
   ],
   "source": [
    "print(a.size)"
   ]
  },
  {
   "cell_type": "code",
   "execution_count": 32,
   "id": "7e296414",
   "metadata": {},
   "outputs": [
    {
     "name": "stdout",
     "output_type": "stream",
     "text": [
      "[[1 2]\n",
      " [3 2]\n",
      " [3 4]]\n",
      "\n",
      "[[1 2 3]\n",
      " [2 3 4]]\n"
     ]
    }
   ],
   "source": [
    "print(a.reshape(3,2))\n",
    "print()\n",
    "print(a.reshape(2,3))\n"
   ]
  },
  {
   "cell_type": "code",
   "execution_count": 52,
   "id": "964cc921",
   "metadata": {},
   "outputs": [
    {
     "data": {
      "text/plain": [
       "array([[1, 2, 3],\n",
       "       [2, 3, 4]])"
      ]
     },
     "execution_count": 52,
     "metadata": {},
     "output_type": "execute_result"
    }
   ],
   "source": [
    "np.reshape(a,(2,3))"
   ]
  },
  {
   "cell_type": "code",
   "execution_count": 53,
   "id": "8c1f68d8",
   "metadata": {},
   "outputs": [
    {
     "data": {
      "text/plain": [
       "array([[1, 2],\n",
       "       [3, 2],\n",
       "       [3, 4]])"
      ]
     },
     "execution_count": 53,
     "metadata": {},
     "output_type": "execute_result"
    }
   ],
   "source": [
    "np.reshape(a,(3,2))"
   ]
  },
  {
   "cell_type": "code",
   "execution_count": 57,
   "id": "1c07d699",
   "metadata": {},
   "outputs": [
    {
     "data": {
      "text/plain": [
       "array([1, 2, 3, 2, 3, 4])"
      ]
     },
     "execution_count": 57,
     "metadata": {},
     "output_type": "execute_result"
    }
   ],
   "source": [
    "np.reshape(a,6)"
   ]
  },
  {
   "cell_type": "code",
   "execution_count": 62,
   "id": "1e34b10d",
   "metadata": {},
   "outputs": [
    {
     "name": "stdout",
     "output_type": "stream",
     "text": [
      "[1 2 3 2 3 4]\n",
      "<class 'numpy.ndarray'>\n"
     ]
    }
   ],
   "source": [
    "w=np.reshape(a,a.size)\n",
    "print(w)\n",
    "print(type(w))"
   ]
  },
  {
   "cell_type": "code",
   "execution_count": 58,
   "id": "bf8a4b26",
   "metadata": {},
   "outputs": [
    {
     "data": {
      "text/plain": [
       "array([[1, 2, 3],\n",
       "       [2, 3, 4]])"
      ]
     },
     "execution_count": 58,
     "metadata": {},
     "output_type": "execute_result"
    }
   ],
   "source": [
    "a"
   ]
  },
  {
   "cell_type": "code",
   "execution_count": 61,
   "id": "a88761b7",
   "metadata": {},
   "outputs": [
    {
     "name": "stdout",
     "output_type": "stream",
     "text": [
      "[1 2 3 2 3 4]\n",
      "<class 'numpy.ndarray'>\n",
      "int32\n"
     ]
    }
   ],
   "source": [
    "x=a.flatten()\n",
    "print(x)\n",
    "print(type(x))\n",
    "print(x.dtype)"
   ]
  },
  {
   "cell_type": "markdown",
   "id": "8c1280cc",
   "metadata": {},
   "source": [
    "## Slicing"
   ]
  },
  {
   "cell_type": "code",
   "execution_count": 33,
   "id": "fe31e28e",
   "metadata": {},
   "outputs": [
    {
     "data": {
      "text/plain": [
       "array([[1, 2, 3],\n",
       "       [2, 3, 4]])"
      ]
     },
     "execution_count": 33,
     "metadata": {},
     "output_type": "execute_result"
    }
   ],
   "source": [
    "a"
   ]
  },
  {
   "cell_type": "code",
   "execution_count": 40,
   "id": "dbf85ca0",
   "metadata": {},
   "outputs": [
    {
     "name": "stdout",
     "output_type": "stream",
     "text": [
      "1\n",
      "\n",
      "[[2 3]\n",
      " [3 4]]\n",
      "\n",
      "[3 4]\n",
      "\n",
      "[2 3 4]\n"
     ]
    }
   ],
   "source": [
    "print(a[0,0])\n",
    "print()\n",
    "print(a[0:2,1:3])\n",
    "print()\n",
    "print(a[0:2,-1])\n",
    "print()\n",
    "print(a[-1,:])"
   ]
  },
  {
   "cell_type": "markdown",
   "id": "a4c09eaa",
   "metadata": {},
   "source": [
    "## Min,max and sum"
   ]
  },
  {
   "cell_type": "code",
   "execution_count": 41,
   "id": "3aea68f9",
   "metadata": {},
   "outputs": [
    {
     "name": "stdout",
     "output_type": "stream",
     "text": [
      "1\n",
      "15\n",
      "4\n"
     ]
    }
   ],
   "source": [
    "print(a.min())\n",
    "print(a.sum())\n",
    "print(a.max())"
   ]
  },
  {
   "cell_type": "code",
   "execution_count": 42,
   "id": "137d5153",
   "metadata": {},
   "outputs": [
    {
     "name": "stdout",
     "output_type": "stream",
     "text": [
      "[[1 2 3]\n",
      " [2 3 4]]\n"
     ]
    }
   ],
   "source": [
    "print(a)"
   ]
  },
  {
   "cell_type": "code",
   "execution_count": 43,
   "id": "0ad0bc97",
   "metadata": {},
   "outputs": [
    {
     "name": "stdout",
     "output_type": "stream",
     "text": [
      "[3 5 7]\n"
     ]
    }
   ],
   "source": [
    "print(np.sum(a,axis=0))"
   ]
  },
  {
   "cell_type": "code",
   "execution_count": 44,
   "id": "38c45ad4",
   "metadata": {},
   "outputs": [
    {
     "name": "stdout",
     "output_type": "stream",
     "text": [
      "[6 9]\n"
     ]
    }
   ],
   "source": [
    "#row wise sum\n",
    "print(np.sum(a,axis=1))"
   ]
  },
  {
   "cell_type": "markdown",
   "id": "e9fe73fb",
   "metadata": {},
   "source": [
    "## Mathematical operations"
   ]
  },
  {
   "cell_type": "code",
   "execution_count": 47,
   "id": "592ea3de",
   "metadata": {},
   "outputs": [
    {
     "name": "stdout",
     "output_type": "stream",
     "text": [
      "[[1 2]\n",
      " [3 4]]\n",
      "\n",
      "[[4 5]\n",
      " [6 7]]\n",
      "\n",
      "[[ 5  7]\n",
      " [ 9 11]]\n",
      "\n",
      "[[ 5  7]\n",
      " [ 9 11]]\n"
     ]
    }
   ],
   "source": [
    "x=np.array([[1,2],[3,4]])\n",
    "y=np.array([[4,5],[6,7]])\n",
    "\n",
    "print(x)\n",
    "print()\n",
    "print(y)\n",
    "print()\n",
    "print(x+y)\n",
    "print()\n",
    "print(np.add(x,y))"
   ]
  },
  {
   "cell_type": "code",
   "execution_count": 51,
   "id": "d7d511f6",
   "metadata": {},
   "outputs": [
    {
     "name": "stdout",
     "output_type": "stream",
     "text": [
      "[[-3 -3]\n",
      " [-3 -3]]\n",
      "[[ 4 10]\n",
      " [18 28]]\n",
      "[[4.   2.5 ]\n",
      " [2.   1.75]]\n"
     ]
    }
   ],
   "source": [
    "print(x-y,x*y,y/x,sep='\\n')"
   ]
  },
  {
   "cell_type": "code",
   "execution_count": null,
   "id": "6ab0ba8b",
   "metadata": {},
   "outputs": [],
   "source": []
  }
 ],
 "metadata": {
  "kernelspec": {
   "display_name": "Python 3",
   "language": "python",
   "name": "python3"
  },
  "language_info": {
   "codemirror_mode": {
    "name": "ipython",
    "version": 3
   },
   "file_extension": ".py",
   "mimetype": "text/x-python",
   "name": "python",
   "nbconvert_exporter": "python",
   "pygments_lexer": "ipython3",
   "version": "3.8.5"
  }
 },
 "nbformat": 4,
 "nbformat_minor": 5
}
