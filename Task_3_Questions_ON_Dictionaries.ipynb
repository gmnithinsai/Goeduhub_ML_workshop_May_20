{
 "cells": [
  {
   "cell_type": "markdown",
   "id": "8b05d793",
   "metadata": {},
   "source": [
    "# Goeduhub | Task - 3 | Registration-ID : GO_STP_2134"
   ]
  },
  {
   "cell_type": "markdown",
   "id": "576aa2f1",
   "metadata": {},
   "source": [
    "##  Programs on Dictionaries"
   ]
  },
  {
   "cell_type": "markdown",
   "id": "4e7ca200",
   "metadata": {},
   "source": [
    "__Q.1 Write a Python Program to sort (ascending and descending) a dictionary by value.__\n",
    "\n"
   ]
  },
  {
   "cell_type": "code",
   "execution_count": 20,
   "id": "7ce20aa6",
   "metadata": {},
   "outputs": [
    {
     "name": "stdout",
     "output_type": "stream",
     "text": [
      "{'sai': 19, 'Nithin': 23, 'Sharda': 24, 'GOEDUHUB': 25}\n"
     ]
    }
   ],
   "source": [
    "dict1={\"Nithin\":23,\"sai\":19,\"GOEDUHUB\":25,\"Sharda\":24}\n",
    "sorted_dict={}\n",
    "sorted_values=sorted(dict1.values(),reverse=False)\n",
    "for i in sorted_values:\n",
    "    for k in dict1.keys():\n",
    "        if dict1[k]==i:\n",
    "            sorted_dict[k]=dict1[k]\n",
    "            break\n",
    "print(sorted_dict)\n"
   ]
  },
  {
   "cell_type": "code",
   "execution_count": 21,
   "id": "6163feb4",
   "metadata": {},
   "outputs": [
    {
     "name": "stdout",
     "output_type": "stream",
     "text": [
      "{'GOEDUHUB': 25, 'Sharda': 24, 'Nithin': 23, 'sai': 19}\n"
     ]
    }
   ],
   "source": [
    "dict1={\"Nithin\":23,\"sai\":19,\"GOEDUHUB\":25,\"Sharda\":24}\n",
    "sorted_dict={}\n",
    "sorted_values=sorted(dict1.values(),reverse=True)\n",
    "for i in sorted_values:\n",
    "    for k in dict1.keys():\n",
    "        if dict1[k]==i:\n",
    "            sorted_dict[k]=dict1[k]\n",
    "            break\n",
    "print(sorted_dict)\n"
   ]
  },
  {
   "cell_type": "markdown",
   "id": "78cd6a7b",
   "metadata": {},
   "source": [
    "#### Using Sorted and get function"
   ]
  },
  {
   "cell_type": "code",
   "execution_count": 27,
   "id": "122864c7",
   "metadata": {
    "scrolled": true
   },
   "outputs": [
    {
     "name": "stdout",
     "output_type": "stream",
     "text": [
      "['sai', 'Nithin', 'Sharda', 'GOEDUHUB']\n",
      "{'sai': 19, 'Nithin': 23, 'Sharda': 24, 'GOEDUHUB': 25}\n",
      "['GOEDUHUB', 'Nithin', 'Sharda', 'sai']\n"
     ]
    }
   ],
   "source": [
    "sorted_keys=sorted(dict1,key=dict1.get)\n",
    "sorted_dict={}\n",
    "print(sorted_keys)\n",
    "for i in sorted_keys:\n",
    "    sorted_dict[i]=dict1[i]\n",
    "print(sorted_dict)\n",
    "print(sorted(dict1.keys()))"
   ]
  },
  {
   "cell_type": "markdown",
   "id": "660abecf",
   "metadata": {},
   "source": [
    "__Q.2 Write a Python Program to add a key to a dictionary.__  \n",
    "\n",
    "\n",
    "- Sample Dictionary : {0: 10, 1: 20}\n",
    "- Expected Result : {0: 10, 1: 20, 2: 30}\n",
    "\n"
   ]
  },
  {
   "cell_type": "code",
   "execution_count": 28,
   "id": "5793ebb4",
   "metadata": {},
   "outputs": [
    {
     "data": {
      "text/plain": [
       "{0: 10, 1: 20, 2: 30}"
      ]
     },
     "execution_count": 28,
     "metadata": {},
     "output_type": "execute_result"
    }
   ],
   "source": [
    "a={0:10,1:20}\n",
    "a[2]=30\n",
    "a"
   ]
  },
  {
   "cell_type": "markdown",
   "id": "c31ce10c",
   "metadata": {},
   "source": [
    "__Q.3 Write a  program asks for City name and Temperature and builds a dictionary using that Later on you can input City name and it will tell you the Temperature of that City.__\n",
    "\n"
   ]
  },
  {
   "cell_type": "code",
   "execution_count": 35,
   "id": "1c05a2c6",
   "metadata": {},
   "outputs": [
    {
     "name": "stdout",
     "output_type": "stream",
     "text": [
      "2\n",
      "bangalore 30\n",
      "Tirupati 36\n",
      "Enter city name:Tirupati\n",
      "36\n"
     ]
    }
   ],
   "source": [
    "n=int(input())\n",
    "list1=[]\n",
    "new_dict={}\n",
    "for _ in range(n):\n",
    "    a=input().split()\n",
    "    list1.append(a)\n",
    "flat_list = []\n",
    "\n",
    "# iterating over the data\n",
    "for item in list1:\n",
    "    # appending elements to the flat_list\n",
    "    flat_list += item\n",
    "\n",
    "for i in range(1,len(flat_list)+1):\n",
    "    if i%2!=0:\n",
    "        new_dict[flat_list[i-1]]=flat_list[i]\n",
    "k=input(\"Enter city name:\")\n",
    "print(new_dict[k])\n",
    "    "
   ]
  },
  {
   "cell_type": "markdown",
   "id": "76651b29",
   "metadata": {},
   "source": [
    "__Q. 4 Write a Python program to convert list to list of dictionaries.__  \n",
    "\n",
    "\n",
    "- Sample lists: [\"Black\", \"Red\", \"Maroon\", \"Yellow\"], [\"#000000\", \"#FF0000\", \"#800000\", \"#FFFF00\"]\n",
    "\n",
    "- Expected Output: [{'color_name': 'Black', 'color_code': '#000000'}, {'color_name': 'Red', 'color_code': '#FF0000'}, {'color_name': 'Maroon', 'color_code': '#800000'}, {'color_name': 'Yellow', 'color_code': '#FFFF00'}]\n",
    "\n"
   ]
  },
  {
   "cell_type": "code",
   "execution_count": 3,
   "id": "2a935f46",
   "metadata": {},
   "outputs": [
    {
     "name": "stdout",
     "output_type": "stream",
     "text": [
      "{'Black': '#000000', 'Red': '#FF0000', 'Maroon': '#800000', 'Yellow': '#FFFF00'}\n",
      "\n",
      "[{'color_name': 'Black', 'color_code': '#000000'}, {'color_name': 'Red', 'color_code': '#FF0000'}, {'color_name': 'Maroon', 'color_code': '#800000'}, {'color_name': 'Yellow', 'color_code': '#FFFF00'}]\n"
     ]
    }
   ],
   "source": [
    "color=[\"Black\", \"Red\", \"Maroon\", \"Yellow\"]\n",
    "color_code=[\"#000000\", \"#FF0000\", \"#800000\", \"#FFFF00\"]\n",
    "dict1={}\n",
    "for i,j in zip(color,color_code):\n",
    "    dict1[i]=j\n",
    "print(dict1)\n",
    "print()\n",
    "list1=[]\n",
    "for key,value in dict1.items():\n",
    "    list1.append({'color_name':key,'color_code':value})\n",
    "print(list1)"
   ]
  },
  {
   "cell_type": "markdown",
   "id": "7bd2b3f1",
   "metadata": {},
   "source": [
    "__Q. 5 We have following information on Employees and their Salary (Salary is in lakhs),__  \n",
    "\n",
    "\n",
    "|Employee |\tSalary|\n",
    "|:--------|:------|\n",
    "|John     |   14  |\n",
    "|Smith\t  |   13  |\n",
    "|Alice\t  |   32  |\n",
    "|Daneil   |   21  |\n",
    "  \n",
    "Using above create a dictionary of Employees and their Salary\n",
    "Write a program that asks user for three type of inputs,\n",
    "- print: if user enter print then it should print all Employees with their Salary in this format,\n",
    " - John ==>14\n",
    " - Smith ==>13\n",
    " - Alice ==>32\n",
    " - Daneil ==>21  \n",
    "- add: if user input adds then it should further ask for an Employee name to add. If Employee already exists in our dataset then it should print that it exists and do nothing. If it doesn't then it asks for Salary and add that new Employee/Salary in our dictionary and print it\n",
    "- remove: when user inputs remove it should ask for an Employee to remove. If an Employee exists in our dictionary then remove it and print a new dictionary using format shown above in (a). Else print that Employee doesn't exist!\n",
    "- query: on this again ask the user for which Employee he or she wants to query. When a user inputs that Employee it will print the Salary of that Employee.\n",
    "\n"
   ]
  },
  {
   "cell_type": "code",
   "execution_count": 17,
   "id": "250722df",
   "metadata": {},
   "outputs": [
    {
     "name": "stdout",
     "output_type": "stream",
     "text": [
      "query\n",
      "{'john': 14, 'smith': 13, 'Alice': 32, 'Daniel': 21}\n",
      "Enter employ name to querysmith\n",
      "13\n"
     ]
    }
   ],
   "source": [
    "n=input()\n",
    "data={'john':14,'smith':13,'Alice':32,'Daniel':21}\n",
    "\n",
    "\n",
    "if n=='print':\n",
    "    for i,j in data.items():\n",
    "        print(i,\"==>\",j)\n",
    "        \n",
    "if n=='add':\n",
    "    emp_name=input()\n",
    "    if emp_name in data.keys() :\n",
    "        print(\"Exist\")\n",
    "    else:\n",
    "        salary=input()\n",
    "        data[emp_name]=salary\n",
    "print(data)\n",
    "\n",
    "def remove_(n):\n",
    "    if n=='remove':\n",
    "        emp_name=input()\n",
    "        if emp_name not in data.keys():\n",
    "            print(\"Not found\")\n",
    "        else:\n",
    "            data.pop(emp_name)\n",
    "    return data\n",
    "if n=='remove':\n",
    "    print(remove_(n))\n",
    "\n",
    "    \n",
    "if n=='query':\n",
    "    emp_name=input(\"Enter employ name to query\")\n",
    "    print(data[emp_name])\n",
    "        \n",
    "\n"
   ]
  },
  {
   "cell_type": "markdown",
   "id": "2376e61a",
   "metadata": {},
   "source": [
    "## Questions on Sets-  \n",
    "  \n",
    "__Q.1 What is the difference between a set and a frozenset? Create any set and try to use frozenset(setname).__\n",
    "\n"
   ]
  },
  {
   "cell_type": "code",
   "execution_count": 25,
   "id": "83844df8",
   "metadata": {},
   "outputs": [
    {
     "name": "stdout",
     "output_type": "stream",
     "text": [
      "{2, 3, 4, 5, 6, 11}\n",
      "{2, 3, 4, 5, 6, 34, 11}\n"
     ]
    },
    {
     "ename": "AttributeError",
     "evalue": "'frozenset' object has no attribute 'add'",
     "output_type": "error",
     "traceback": [
      "\u001b[1;31m---------------------------------------------------------------------------\u001b[0m",
      "\u001b[1;31mAttributeError\u001b[0m                            Traceback (most recent call last)",
      "\u001b[1;32m<ipython-input-25-4847ecd78892>\u001b[0m in \u001b[0;36m<module>\u001b[1;34m\u001b[0m\n\u001b[0;32m      5\u001b[0m \u001b[0ma\u001b[0m\u001b[1;33m.\u001b[0m\u001b[0madd\u001b[0m\u001b[1;33m(\u001b[0m\u001b[1;36m34\u001b[0m\u001b[1;33m)\u001b[0m\u001b[1;33m\u001b[0m\u001b[1;33m\u001b[0m\u001b[0m\n\u001b[0;32m      6\u001b[0m \u001b[0mprint\u001b[0m\u001b[1;33m(\u001b[0m\u001b[0ma\u001b[0m\u001b[1;33m)\u001b[0m\u001b[1;33m\u001b[0m\u001b[1;33m\u001b[0m\u001b[0m\n\u001b[1;32m----> 7\u001b[1;33m \u001b[0mb\u001b[0m\u001b[1;33m.\u001b[0m\u001b[0madd\u001b[0m\u001b[1;33m(\u001b[0m\u001b[1;36m98\u001b[0m\u001b[1;33m)\u001b[0m\u001b[1;33m\u001b[0m\u001b[1;33m\u001b[0m\u001b[0m\n\u001b[0m\u001b[0;32m      8\u001b[0m \u001b[0mprint\u001b[0m\u001b[1;33m(\u001b[0m\u001b[0mb\u001b[0m\u001b[1;33m)\u001b[0m\u001b[1;33m\u001b[0m\u001b[1;33m\u001b[0m\u001b[0m\n",
      "\u001b[1;31mAttributeError\u001b[0m: 'frozenset' object has no attribute 'add'"
     ]
    }
   ],
   "source": [
    "a={11,2,3,3,4,2,5,6}\n",
    "b={23,54,64,64,78,43,65}\n",
    "print(a)\n",
    "b=frozenset(b)\n",
    "a.add(34)\n",
    "print(a)\n",
    "b.add(98)\n",
    "print(b)"
   ]
  },
  {
   "cell_type": "markdown",
   "id": "f73c8886",
   "metadata": {},
   "source": [
    "- Frozenset is just an immutabel version of a python set object.  \n",
    "- While elements of a set can be modified at any time, elements of hte frozenset remain the same after creation"
   ]
  },
  {
   "cell_type": "markdown",
   "id": "dfff7067",
   "metadata": {},
   "source": [
    "__Q.2 Find the elements in a given set that are not in another set__\n",
    "\n",
    "    - set1 = {10,20,30,40,50}\n",
    "\n",
    "    - set2 = {40,50,60,70,80}  \n",
    "    \n",
    "\n",
    " Difference between set1 and set2 is {10,20,30}"
   ]
  },
  {
   "cell_type": "code",
   "execution_count": 27,
   "id": "b83c08d2",
   "metadata": {},
   "outputs": [
    {
     "name": "stdout",
     "output_type": "stream",
     "text": [
      "{10, 20, 30}\n"
     ]
    }
   ],
   "source": [
    "set1 = {10,20,30,40,50}\n",
    "set2 = {40,50,60,70,80}  \n",
    "    \n",
    "print(set1.difference(set2))"
   ]
  },
  {
   "cell_type": "code",
   "execution_count": null,
   "id": "4bc37a52",
   "metadata": {},
   "outputs": [],
   "source": []
  }
 ],
 "metadata": {
  "kernelspec": {
   "display_name": "Python 3",
   "language": "python",
   "name": "python3"
  },
  "language_info": {
   "codemirror_mode": {
    "name": "ipython",
    "version": 3
   },
   "file_extension": ".py",
   "mimetype": "text/x-python",
   "name": "python",
   "nbconvert_exporter": "python",
   "pygments_lexer": "ipython3",
   "version": "3.8.5"
  }
 },
 "nbformat": 4,
 "nbformat_minor": 5
}
